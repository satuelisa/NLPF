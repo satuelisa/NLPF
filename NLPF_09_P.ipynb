{
  "nbformat": 4,
  "nbformat_minor": 0,
  "metadata": {
    "colab": {
      "name": "NLPF_09_P",
      "provenance": [],
      "authorship_tag": "ABX9TyNexsf1Ll+Mefxc3U8fiGOv",
      "include_colab_link": true
    },
    "kernelspec": {
      "name": "python3",
      "display_name": "Python 3"
    },
    "language_info": {
      "name": "python"
    }
  },
  "cells": [
    {
      "cell_type": "markdown",
      "metadata": {
        "id": "view-in-github",
        "colab_type": "text"
      },
      "source": [
        "<a href=\"https://colab.research.google.com/github/satuelisa/NLPF/blob/main/NLPF_09_P.ipynb\" target=\"_parent\"><img src=\"https://colab.research.google.com/assets/colab-badge.svg\" alt=\"Open In Colab\"/></a>"
      ]
    },
    {
      "cell_type": "code",
      "execution_count": 1,
      "metadata": {
        "id": "pvKkCt-n-5sS"
      },
      "outputs": [],
      "source": [
        "import nltk\n",
        "from nltk.chat.util import Chat, reflections"
      ]
    },
    {
      "cell_type": "markdown",
      "source": [
        "What are *reflections*?"
      ],
      "metadata": {
        "id": "ffkBhYjc_FBo"
      }
    },
    {
      "cell_type": "code",
      "source": [
        "print(reflections)"
      ],
      "metadata": {
        "colab": {
          "base_uri": "https://localhost:8080/"
        },
        "id": "AYYAG-bw_HbP",
        "outputId": "fe701da3-0dd3-4d56-a657-f6330e73f821"
      },
      "execution_count": 2,
      "outputs": [
        {
          "output_type": "stream",
          "name": "stdout",
          "text": [
            "{'i am': 'you are', 'i was': 'you were', 'i': 'you', \"i'm\": 'you are', \"i'd\": 'you would', \"i've\": 'you have', \"i'll\": 'you will', 'my': 'your', 'you are': 'I am', 'you were': 'I was', \"you've\": 'I have', \"you'll\": 'I will', 'your': 'my', 'yours': 'mine', 'you': 'me', 'me': 'you'}\n"
          ]
        }
      ]
    },
    {
      "cell_type": "markdown",
      "source": [
        "We can add stuff."
      ],
      "metadata": {
        "id": "w5ytPUAXKZHp"
      }
    },
    {
      "cell_type": "code",
      "source": [
        "reflections['myself'] = 'yourself'"
      ],
      "metadata": {
        "id": "OaXs1nmvKaEz"
      },
      "execution_count": 3,
      "outputs": []
    },
    {
      "cell_type": "markdown",
      "source": [
        "We need to structure what will the bot respond to diverse prompts."
      ],
      "metadata": {
        "id": "BECzaKhu_RwI"
      }
    },
    {
      "cell_type": "code",
      "source": [
        "intro = ['Pleased to meet you, %1.', \"Hello, %1, how's it going?\",]\n",
        "smalltalk = [ 'I am well, thanks', 'Okay',]\n",
        "identify = ['I am a bot',]\n",
        "positive = [ 'Nice', 'Excellent', 'Way to go', 'Good for you',]\n",
        "negative = [ 'That sucks', 'Sorry to hear that', ':(',]\n",
        "default = [ 'Wow', 'I hear you',]\n",
        "questionResponse = [ # will be matched in this order\n",
        "    [ r'my name is (.*)', intro ],\n",
        "    [ r'I am (.*)', intro ],\n",
        "    [ r'this is (.*)', intro ],\n",
        "    [ r'who am I talking to|who is this', identify ],\n",
        "    [ r\"how are you|how about you|what's up\", smalltalk ],\n",
        "    [ r'not too bad|fine|well|great', positive ],\n",
        "    [ r'bad|sucks', negative ],\n",
        "    [ r'bonjour|hi|whazzup (.*)', ['ohai', 'Bonjour, ça va?',] ], \n",
        "    [ r'sorry (.*)', ['no biggie',] ],\n",
        "    [ r'close|farewell (.*)', ['It was a pleasure', 'See you later',] ],\n",
        "    [ r'(.*)\\!', ['%1, for sure'] ],\n",
        "    [ r'(.*)\\?', ['whoah, %1!',] ],\n",
        "    [ r'(.*)', default ]\n",
        "]"
      ],
      "metadata": {
        "id": "pLzKT1X7_ZQu"
      },
      "execution_count": 4,
      "outputs": []
    },
    {
      "cell_type": "markdown",
      "source": [
        "Let's start a chat :)"
      ],
      "metadata": {
        "id": "TXfxN42NA9df"
      }
    },
    {
      "cell_type": "code",
      "source": [
        "print('At your service, mate.')\n",
        "chat = Chat(questionResponse, reflections)\n",
        "chat.converse(quit = 'close') # typing close will make it stop expecting more messages"
      ],
      "metadata": {
        "colab": {
          "base_uri": "https://localhost:8080/"
        },
        "id": "veM3oTz4A_Bt",
        "outputId": "120dc797-700e-460b-c197-b992c9f263ef"
      },
      "execution_count": 21,
      "outputs": [
        {
          "output_type": "stream",
          "name": "stdout",
          "text": [
            "At your service, mate.\n",
            ">hi there\n",
            "Bonjour, ça va?\n",
            ">oh, you speak french\n",
            "I hear you\n",
            ">that is nice\n",
            "I hear you\n",
            ">who is this?\n",
            "I am a bot\n",
            ">my name is Elisa\n",
            "Pleased to meet you, elisa.\n",
            ">bye now\n",
            "Wow\n",
            ">sabes qué es eso?\n",
            "whoah, sabes qué es eso!\n",
            ">dude!\n",
            "Wow\n",
            ">close\n",
            "It was a pleasure\n"
          ]
        }
      ]
    },
    {
      "cell_type": "markdown",
      "source": [
        "So that is a *rule-based* chat bot. Another approach is to use machine learning and figure out based on training data what are appropriate responses for the bot. We will now start working towards that latter direction, following an [online Pykit tutorial](https://pykit.org/chatbot-in-python-using-nlp/).  The training data is a [JSON file](https://github.com/vishal-verma27/Building-a-Simple-Chatbot-in-Python-using-NLTK/blob/611bc5c96f25aa0e5f8e71a97c421fab7781214e/Train_Bot.json) that is similar to the rules above in the sense that it associates *patterns* to *responses*."
      ],
      "metadata": {
        "id": "-dkWRT6LEpp1"
      }
    },
    {
      "cell_type": "code",
      "source": [
        "from urllib.request import urlopen\n",
        "import json\n",
        "url = 'https://raw.githubusercontent.com/vishal-verma27/Building-a-Simple-Chatbot-in-Python-using-NLTK/611bc5c96f25aa0e5f8e71a97c421fab7781214e/Train_Bot.json'\n",
        "data = urlopen(url) \n",
        "intents = json.loads(data.read())\n",
        "print(json.dumps(intents, indent = 2))"
      ],
      "metadata": {
        "colab": {
          "base_uri": "https://localhost:8080/"
        },
        "id": "oiHcvh9EcHtz",
        "outputId": "372fafa2-6b24-4907-daeb-b468bdc33e94"
      },
      "execution_count": 22,
      "outputs": [
        {
          "output_type": "stream",
          "name": "stdout",
          "text": [
            "{\n",
            "  \"intents\": [\n",
            "    {\n",
            "      \"tag\": \"Intro\",\n",
            "      \"patterns\": [\n",
            "        \"hi\",\n",
            "        \"how are you\",\n",
            "        \"is anyone there\",\n",
            "        \"hello\",\n",
            "        \"whats up\",\n",
            "        \"hey\",\n",
            "        \"yo\",\n",
            "        \"listen\",\n",
            "        \"please help me\",\n",
            "        \"i am learner from\",\n",
            "        \"i belong to\",\n",
            "        \"aiml batch\",\n",
            "        \"aifl batch\",\n",
            "        \"i am from\",\n",
            "        \"my pm is\",\n",
            "        \"blended\",\n",
            "        \"online\",\n",
            "        \"i am from\",\n",
            "        \"hey ya\",\n",
            "        \"talking to you for first time\"\n",
            "      ],\n",
            "      \"responses\": [\n",
            "        \"Hello! how can i help you ?\"\n",
            "      ],\n",
            "      \"context_set\": \"\"\n",
            "    },\n",
            "    {\n",
            "      \"tag\": \"Exit\",\n",
            "      \"patterns\": [\n",
            "        \"thank you\",\n",
            "        \"thanks\",\n",
            "        \"cya\",\n",
            "        \"see you\",\n",
            "        \"later\",\n",
            "        \"see you later\",\n",
            "        \"goodbye\",\n",
            "        \"i am leaving\",\n",
            "        \"have a Good day\",\n",
            "        \"you helped me\",\n",
            "        \"thanks a lot\",\n",
            "        \"thanks a ton\",\n",
            "        \"you are the best\",\n",
            "        \"great help\",\n",
            "        \"too good\",\n",
            "        \"you are a good learning buddy\"\n",
            "      ],\n",
            "      \"responses\": [\n",
            "        \"I hope I was able to assist you, Good Bye\"\n",
            "      ],\n",
            "      \"context_set\": \"\"\n",
            "    },\n",
            "    {\n",
            "      \"tag\": \"Olympus\",\n",
            "      \"patterns\": [\n",
            "        \"olympus\",\n",
            "        \"explain me how olympus works\",\n",
            "        \"I am not able to understand olympus\",\n",
            "        \"olympus window not working\",\n",
            "        \"no access to olympus\",\n",
            "        \"unable to see link in olympus\",\n",
            "        \"no link visible on olympus\",\n",
            "        \"whom to contact for olympus\",\n",
            "        \"lot of problem with olympus\",\n",
            "        \"olypus is not a good tool\",\n",
            "        \"lot of problems with olympus\",\n",
            "        \"how to use olympus\",\n",
            "        \"teach me olympus\"\n",
            "      ],\n",
            "      \"responses\": [\n",
            "        \"Link: Olympus wiki\"\n",
            "      ],\n",
            "      \"context_set\": \"\"\n",
            "    },\n",
            "    {\n",
            "      \"tag\": \"SL\",\n",
            "      \"patterns\": [\n",
            "        \"i am not able to understand svm\",\n",
            "        \"explain me how machine learning works\",\n",
            "        \"i am not able to understand naive bayes\",\n",
            "        \"i am not able to understand logistic regression\",\n",
            "        \"i am not able to understand ensemble techb=niques\",\n",
            "        \"i am not able to understand knn\",\n",
            "        \"i am not able to understand knn imputer\",\n",
            "        \"i am not able to understand cross validation\",\n",
            "        \"i am not able to understand boosting\",\n",
            "        \"i am not able to understand random forest\",\n",
            "        \"i am not able to understand ada boosting\",\n",
            "        \"i am not able to understand gradient boosting\",\n",
            "        \"machine learning\",\n",
            "        \"ML\",\n",
            "        \"SL\",\n",
            "        \"supervised learning\",\n",
            "        \"knn\",\n",
            "        \"logistic regression\",\n",
            "        \"regression\",\n",
            "        \"classification\",\n",
            "        \"naive bayes\",\n",
            "        \"nb\",\n",
            "        \"ensemble techniques\",\n",
            "        \"bagging\",\n",
            "        \"boosting\",\n",
            "        \"ada boosting\",\n",
            "        \"ada\",\n",
            "        \"gradient boosting\",\n",
            "        \"hyper parameters\"\n",
            "      ],\n",
            "      \"responses\": [\n",
            "        \"Link: Machine Learning wiki \"\n",
            "      ],\n",
            "      \"context_set\": \"\"\n",
            "    },\n",
            "    {\n",
            "      \"tag\": \"NN\",\n",
            "      \"patterns\": [\n",
            "        \"what is deep learning\",\n",
            "        \"unable to understand deep learning\",\n",
            "        \"explain me how deep learning works\",\n",
            "        \"i am not able to understand deep learning\",\n",
            "        \"not able to understand neural nets\",\n",
            "        \"very diffult to understand neural nets\",\n",
            "        \"unable to understand neural nets\",\n",
            "        \"ann\",\n",
            "        \"artificial intelligence\",\n",
            "        \"artificial neural networks\",\n",
            "        \"weights\",\n",
            "        \"activation function\",\n",
            "        \"hidden layers\",\n",
            "        \"softmax\",\n",
            "        \"sigmoid\",\n",
            "        \"relu\",\n",
            "        \"otimizer\",\n",
            "        \"forward propagation\",\n",
            "        \"backward propagation\",\n",
            "        \"epochs\",\n",
            "        \"epoch\",\n",
            "        \"what is an epoch\",\n",
            "        \"adam\",\n",
            "        \"sgd\"\n",
            "      ],\n",
            "      \"responses\": [\n",
            "        \"Link: Neural Nets wiki\"\n",
            "      ],\n",
            "      \"context_set\": \"\"\n",
            "    },\n",
            "    {\n",
            "      \"tag\": \"Bot\",\n",
            "      \"patterns\": [\n",
            "        \"what is your name\",\n",
            "        \"who are you\",\n",
            "        \"name please\",\n",
            "        \"when are your hours of opertions\",\n",
            "        \"what are your working hours\",\n",
            "        \"hours of operation\",\n",
            "        \"working hours\",\n",
            "        \"hours\"\n",
            "      ],\n",
            "      \"responses\": [\n",
            "        \"I am your virtual learning assistant\"\n",
            "      ],\n",
            "      \"context_set\": \"\"\n",
            "    },\n",
            "    {\n",
            "      \"tag\": \"Profane\",\n",
            "      \"patterns\": [\n",
            "        \"what the hell\",\n",
            "        \"bloody stupid bot\",\n",
            "        \"do you think you are very smart\",\n",
            "        \"screw you\",\n",
            "        \"i hate you\",\n",
            "        \"you are stupid\",\n",
            "        \"jerk\",\n",
            "        \"you are a joke\",\n",
            "        \"useless piece of shit\"\n",
            "      ],\n",
            "      \"responses\": [\n",
            "        \"Please use respectful words\"\n",
            "      ],\n",
            "      \"context_set\": \"\"\n",
            "    },\n",
            "    {\n",
            "      \"tag\": \"Ticket\",\n",
            "      \"patterns\": [\n",
            "        \"my problem is not solved\",\n",
            "        \"you did not help me\",\n",
            "        \"not a good solution\",\n",
            "        \"bad solution\",\n",
            "        \"not good solution\",\n",
            "        \"no help\",\n",
            "        \"wasted my time\",\n",
            "        \"useless bot\",\n",
            "        \"create a ticket\"\n",
            "      ],\n",
            "      \"responses\": [\n",
            "        \"Tarnsferring the request to your PM\"\n",
            "      ],\n",
            "      \"context_set\": \"\"\n",
            "    }\n",
            "  ]\n",
            "}\n"
          ]
        }
      ]
    },
    {
      "cell_type": "markdown",
      "source": [
        "Now we do some of our newly-acquired NLP tricks on that data to train a model."
      ],
      "metadata": {
        "id": "ttlf-JEneuiT"
      }
    },
    {
      "cell_type": "code",
      "source": [
        "import nltk\n",
        "nltk.download('punkt') # once per machine\n",
        "nltk.download('wordnet') # same\n",
        "nltk.download('omw-1.4') # same"
      ],
      "metadata": {
        "colab": {
          "base_uri": "https://localhost:8080/"
        },
        "id": "syZoVoLLgSo0",
        "outputId": "1d82ca49-1878-4c0a-f672-1d1544c83a1a"
      },
      "execution_count": 7,
      "outputs": [
        {
          "output_type": "stream",
          "name": "stderr",
          "text": [
            "[nltk_data] Downloading package punkt to /root/nltk_data...\n",
            "[nltk_data]   Unzipping tokenizers/punkt.zip.\n",
            "[nltk_data] Downloading package wordnet to /root/nltk_data...\n",
            "[nltk_data] Downloading package omw-1.4 to /root/nltk_data...\n"
          ]
        },
        {
          "output_type": "execute_result",
          "data": {
            "text/plain": [
              "True"
            ]
          },
          "metadata": {},
          "execution_count": 7
        }
      ]
    },
    {
      "cell_type": "code",
      "source": [
        "l = nltk.WordNetLemmatizer()\n",
        "words = set()\n",
        "documents = list()\n",
        "classes = set()\n",
        "for i in intents['intents']:\n",
        "  t = i['tag']\n",
        "  classes.add(t)\n",
        "  for p in i['patterns']:\n",
        "    tokens = set([ l.lemmatize(w.lower()) for w in nltk.word_tokenize(p) ])\n",
        "    documents.append((tokens, t))\n",
        "    words |= tokens"
      ],
      "metadata": {
        "id": "-eRJ3us6e05f"
      },
      "execution_count": 43,
      "outputs": []
    },
    {
      "cell_type": "markdown",
      "source": [
        "Let's take a look at what we have."
      ],
      "metadata": {
        "id": "jU7iei-ygkZ0"
      }
    },
    {
      "cell_type": "code",
      "source": [
        "words = sorted(list(words))\n",
        "classes = sorted(list(classes))\n",
        "print(words[:10])\n",
        "print(words[-10:])\n",
        "print(classes)\n",
        "print(len(documents))"
      ],
      "metadata": {
        "colab": {
          "base_uri": "https://localhost:8080/"
        },
        "id": "CxkGZEcwgGz0",
        "outputId": "9d337a2e-704f-44b6-caf0-fa55b5729211"
      },
      "execution_count": 44,
      "outputs": [
        {
          "output_type": "stream",
          "name": "stdout",
          "text": [
            "['a', 'able', 'access', 'activation', 'ada', 'adam', 'aifl', 'aiml', 'am', 'an']\n",
            "['who', 'whom', 'window', 'with', 'work', 'working', 'ya', 'yo', 'you', 'your']\n",
            "['Bot', 'Exit', 'Intro', 'NN', 'Olympus', 'Profane', 'SL', 'Ticket']\n",
            "128\n"
          ]
        }
      ]
    },
    {
      "cell_type": "markdown",
      "source": [
        "Now we can make a training set associating bags of words to the classes (tags)."
      ],
      "metadata": {
        "id": "gOuHqOFWgr_R"
      }
    },
    {
      "cell_type": "code",
      "source": [
        "training = []\n",
        "k = len(classes)\n",
        "os = 10\n",
        "from random import random\n",
        "for (pattern, tag) in documents:\n",
        "    # binary yes/no for which words appear in a pattern\n",
        "    label = [0] * k # a blank slate for one-hot\n",
        "    label[classes.index(tag)] = 1 # this is the desired class\n",
        "    BoW = [ 1 * (w in pattern) for w in words ] # 1 if word in pattern, 0 if not \n",
        "    for sample in range(os): # oversample by using subsets of the BoW\n",
        "      variant = [ (random() < 0.8) * b for b in BoW ]\n",
        "      if sum(variant) > 0:\n",
        "        training.append([variant, label])\n",
        "print(len(training))"
      ],
      "metadata": {
        "colab": {
          "base_uri": "https://localhost:8080/"
        },
        "id": "E5sVzOF0hEqU",
        "outputId": "180a9341-91aa-4e86-f442-93c8cf439324"
      },
      "execution_count": 61,
      "outputs": [
        {
          "output_type": "stream",
          "name": "stdout",
          "text": [
            "1200\n"
          ]
        }
      ]
    },
    {
      "cell_type": "markdown",
      "source": [
        "We should put that in random order."
      ],
      "metadata": {
        "id": "AXZeVYPEik_g"
      }
    },
    {
      "cell_type": "code",
      "source": [
        "from random import shuffle\n",
        "shuffle(training)\n",
        "for t in range(10):\n",
        "  bag, tag = training[t]\n",
        "  print(sum(bag), tag)\n",
        "for t in range(10):\n",
        "  bag, tag = training[-t]\n",
        "  print(sum(bag), tag)\n",
        "\n",
        "# just going to use all of it, we are not just now interested in saving some for testing\n",
        "X = [ t[0] for t in training ]\n",
        "Y = [ t[1] for t in training ]\n",
        "print(len(X), len(Y))"
      ],
      "metadata": {
        "colab": {
          "base_uri": "https://localhost:8080/"
        },
        "id": "C-ZpwjDcim9c",
        "outputId": "be79b5e9-1a85-4214-c2ec-8576a521dca0"
      },
      "execution_count": 62,
      "outputs": [
        {
          "output_type": "stream",
          "name": "stdout",
          "text": [
            "1 [0, 0, 0, 0, 0, 0, 1, 0]\n",
            "1 [1, 0, 0, 0, 0, 0, 0, 0]\n",
            "2 [0, 1, 0, 0, 0, 0, 0, 0]\n",
            "6 [0, 0, 0, 0, 0, 0, 1, 0]\n",
            "2 [0, 0, 0, 0, 0, 0, 0, 1]\n",
            "4 [0, 0, 0, 0, 1, 0, 0, 0]\n",
            "2 [0, 0, 0, 1, 0, 0, 0, 0]\n",
            "2 [0, 0, 1, 0, 0, 0, 0, 0]\n",
            "1 [0, 1, 0, 0, 0, 0, 0, 0]\n",
            "3 [0, 0, 0, 0, 0, 0, 0, 1]\n",
            "1 [0, 0, 0, 0, 0, 0, 1, 0]\n",
            "2 [0, 0, 0, 0, 0, 0, 1, 0]\n",
            "4 [0, 0, 0, 0, 1, 0, 0, 0]\n",
            "1 [0, 0, 0, 1, 0, 0, 0, 0]\n",
            "3 [0, 0, 0, 1, 0, 0, 0, 0]\n",
            "3 [0, 0, 1, 0, 0, 0, 0, 0]\n",
            "1 [0, 0, 0, 1, 0, 0, 0, 0]\n",
            "3 [0, 0, 0, 0, 0, 1, 0, 0]\n",
            "1 [0, 0, 1, 0, 0, 0, 0, 0]\n",
            "3 [0, 0, 1, 0, 0, 0, 0, 0]\n",
            "1200 1200\n"
          ]
        }
      ]
    },
    {
      "cell_type": "markdown",
      "source": [
        "We can train a model now. As in the tutorial, we pick a sequential neural network."
      ],
      "metadata": {
        "id": "YhQvJ_hgjI_2"
      }
    },
    {
      "cell_type": "code",
      "source": [
        "from tensorflow.keras.models import Sequential\n",
        "from tensorflow.keras.layers import Dense, Activation, Dropout\n",
        "from tensorflow.keras.optimizers import SGD\n",
        "n = len(X)\n",
        "h = len(X[0])\n",
        "k = len(Y[0])\n",
        "print(n, h, k)\n",
        "m = Sequential()\n",
        "t = 0.5\n",
        "a = 'relu'\n",
        "m.add(Dense(n, input_shape = (h, ), activation = a))\n",
        "m.add(Dropout(t))\n",
        "m.add(Dense(n // 2, activation = a))\n",
        "m.add(Dropout(t))\n",
        "m.add(Dense(n // 2, activation = a))\n",
        "m.add(Dense(k, activation = 'softmax')) # just pick one class\n",
        "print(m.summary())"
      ],
      "metadata": {
        "colab": {
          "base_uri": "https://localhost:8080/"
        },
        "id": "jXBF2O2JjVC8",
        "outputId": "0cdc3cf5-5a95-4597-c861-181bd64affd1"
      },
      "execution_count": 63,
      "outputs": [
        {
          "output_type": "stream",
          "name": "stdout",
          "text": [
            "1200 158 8\n",
            "Model: \"sequential_3\"\n",
            "_________________________________________________________________\n",
            " Layer (type)                Output Shape              Param #   \n",
            "=================================================================\n",
            " dense_12 (Dense)            (None, 1200)              190800    \n",
            "                                                                 \n",
            " dropout_6 (Dropout)         (None, 1200)              0         \n",
            "                                                                 \n",
            " dense_13 (Dense)            (None, 600)               720600    \n",
            "                                                                 \n",
            " dropout_7 (Dropout)         (None, 600)               0         \n",
            "                                                                 \n",
            " dense_14 (Dense)            (None, 600)               360600    \n",
            "                                                                 \n",
            " dense_15 (Dense)            (None, 8)                 4808      \n",
            "                                                                 \n",
            "=================================================================\n",
            "Total params: 1,276,808\n",
            "Trainable params: 1,276,808\n",
            "Non-trainable params: 0\n",
            "_________________________________________________________________\n",
            "None\n"
          ]
        }
      ]
    },
    {
      "cell_type": "markdown",
      "source": [
        "So what did we build?"
      ],
      "metadata": {
        "id": "3fYjC3cwlf5L"
      }
    },
    {
      "cell_type": "code",
      "source": [
        "from tensorflow.keras.utils import plot_model\n",
        "plot_model(m, show_shapes = True, show_layer_names = True)"
      ],
      "metadata": {
        "colab": {
          "base_uri": "https://localhost:8080/",
          "height": 754
        },
        "id": "oe0G2CsJlh9n",
        "outputId": "b1732463-bb3e-4612-f80b-94252930e5bd"
      },
      "execution_count": 48,
      "outputs": [
        {
          "output_type": "execute_result",
          "data": {
            "image/png": "[encoded data removed]",
            "text/plain": [
              "<IPython.core.display.Image object>"
            ]
          },
          "metadata": {},
          "execution_count": 48
        }
      ]
    },
    {
      "cell_type": "markdown",
      "source": [
        "Set up the fitting and get on with it."
      ],
      "metadata": {
        "id": "8DHv2ozikntN"
      }
    },
    {
      "cell_type": "code",
      "source": [
        "m.compile(loss = 'categorical_crossentropy', \n",
        "          optimizer = SGD(learning_rate = 0.01, \n",
        "                          decay = 1e-5, \n",
        "                          momentum = 0.8, \n",
        "                          nesterov = True), \n",
        "          metrics = ['categorical_accuracy'])\n",
        "import numpy as np\n",
        "f = m.fit(np.array(X), np.array(Y), epochs = 20, batch_size = 10, verbose = 1) # just a little for a quick demo"
      ],
      "metadata": {
        "colab": {
          "base_uri": "https://localhost:8080/"
        },
        "id": "QrDawtidkaRi",
        "outputId": "6d67b15d-c29d-4b56-ee67-0dd1d601fb92"
      },
      "execution_count": 64,
      "outputs": [
        {
          "output_type": "stream",
          "name": "stdout",
          "text": [
            "Epoch 1/30\n",
            "120/120 [==============================] - 1s 8ms/step - loss: 1.9467 - categorical_accuracy: 0.2317\n",
            "Epoch 2/30\n",
            "120/120 [==============================] - 1s 8ms/step - loss: 1.6968 - categorical_accuracy: 0.3983\n",
            "Epoch 3/30\n",
            "120/120 [==============================] - 1s 8ms/step - loss: 1.2376 - categorical_accuracy: 0.6250\n",
            "Epoch 4/30\n",
            "120/120 [==============================] - 1s 8ms/step - loss: 0.7328 - categorical_accuracy: 0.8042\n",
            "Epoch 5/30\n",
            "120/120 [==============================] - 1s 9ms/step - loss: 0.4288 - categorical_accuracy: 0.8917\n",
            "Epoch 6/30\n",
            "120/120 [==============================] - 1s 8ms/step - loss: 0.2649 - categorical_accuracy: 0.9375\n",
            "Epoch 7/30\n",
            "120/120 [==============================] - 1s 8ms/step - loss: 0.1833 - categorical_accuracy: 0.9575\n",
            "Epoch 8/30\n",
            "120/120 [==============================] - 1s 8ms/step - loss: 0.1448 - categorical_accuracy: 0.9608\n",
            "Epoch 9/30\n",
            "120/120 [==============================] - 1s 9ms/step - loss: 0.1241 - categorical_accuracy: 0.9625\n",
            "Epoch 10/30\n",
            "120/120 [==============================] - 1s 8ms/step - loss: 0.1080 - categorical_accuracy: 0.9733\n",
            "Epoch 11/30\n",
            "120/120 [==============================] - 1s 8ms/step - loss: 0.0934 - categorical_accuracy: 0.9708\n",
            "Epoch 12/30\n",
            "120/120 [==============================] - 1s 8ms/step - loss: 0.0954 - categorical_accuracy: 0.9708\n",
            "Epoch 13/30\n",
            "120/120 [==============================] - 1s 8ms/step - loss: 0.1094 - categorical_accuracy: 0.9692\n",
            "Epoch 14/30\n",
            "120/120 [==============================] - 1s 8ms/step - loss: 0.0847 - categorical_accuracy: 0.9733\n",
            "Epoch 15/30\n",
            "120/120 [==============================] - 1s 8ms/step - loss: 0.0783 - categorical_accuracy: 0.9767\n",
            "Epoch 16/30\n",
            "120/120 [==============================] - 1s 8ms/step - loss: 0.0732 - categorical_accuracy: 0.9758\n",
            "Epoch 17/30\n",
            "120/120 [==============================] - 1s 8ms/step - loss: 0.0775 - categorical_accuracy: 0.9783\n",
            "Epoch 18/30\n",
            "120/120 [==============================] - 1s 8ms/step - loss: 0.0596 - categorical_accuracy: 0.9792\n",
            "Epoch 19/30\n",
            "120/120 [==============================] - 1s 8ms/step - loss: 0.0679 - categorical_accuracy: 0.9742\n",
            "Epoch 20/30\n",
            "120/120 [==============================] - 1s 8ms/step - loss: 0.0698 - categorical_accuracy: 0.9783\n",
            "Epoch 21/30\n",
            "120/120 [==============================] - 1s 11ms/step - loss: 0.0644 - categorical_accuracy: 0.9800\n",
            "Epoch 22/30\n",
            "120/120 [==============================] - 2s 13ms/step - loss: 0.0658 - categorical_accuracy: 0.9800\n",
            "Epoch 23/30\n",
            "120/120 [==============================] - 1s 12ms/step - loss: 0.0621 - categorical_accuracy: 0.9808\n",
            "Epoch 24/30\n",
            "120/120 [==============================] - 1s 11ms/step - loss: 0.0721 - categorical_accuracy: 0.9783\n",
            "Epoch 25/30\n",
            "120/120 [==============================] - 2s 15ms/step - loss: 0.0629 - categorical_accuracy: 0.9817\n",
            "Epoch 26/30\n",
            "120/120 [==============================] - 3s 24ms/step - loss: 0.0587 - categorical_accuracy: 0.9842\n",
            "Epoch 27/30\n",
            "120/120 [==============================] - 1s 10ms/step - loss: 0.0542 - categorical_accuracy: 0.9825\n",
            "Epoch 28/30\n",
            "120/120 [==============================] - 1s 9ms/step - loss: 0.0600 - categorical_accuracy: 0.9817\n",
            "Epoch 29/30\n",
            "120/120 [==============================] - 1s 9ms/step - loss: 0.0623 - categorical_accuracy: 0.9792\n",
            "Epoch 30/30\n",
            "120/120 [==============================] - 1s 9ms/step - loss: 0.0535 - categorical_accuracy: 0.9808\n"
          ]
        }
      ]
    },
    {
      "cell_type": "markdown",
      "source": [
        "Now, how do we use this model to generate bot responses? We need to figure out the tag for whatever the user writes and then pick a response based on that."
      ],
      "metadata": {
        "id": "2JI7hhSupuGj"
      }
    },
    {
      "cell_type": "code",
      "source": [
        "userinput = input('Write here to what you want the bot to respond: ')"
      ],
      "metadata": {
        "colab": {
          "base_uri": "https://localhost:8080/"
        },
        "id": "zzPVMdHLqWZG",
        "outputId": "14d10c49-059b-4679-ee44-d001b8add647"
      },
      "execution_count": 68,
      "outputs": [
        {
          "name": "stdout",
          "output_type": "stream",
          "text": [
            "Write here to what you want the bot to respond: hello who am i talking to\n"
          ]
        }
      ]
    },
    {
      "cell_type": "code",
      "source": [
        "uw = set([ l.lemmatize(w) for w in nltk.word_tokenize(userinput) ])\n",
        "BoW = [ 1 * (w in uw) for w in words ]\n",
        "print(len(BoW))\n",
        "threshold = 0.3 # discard unpromising results\n",
        "import tensorflow as tf\n",
        "datapoint = tf.convert_to_tensor(np.array([BoW]))\n",
        "p = m.predict(datapoint)[0] # predict just this one data point\n",
        "print(classes) # reminder\n",
        "for outcome, label in zip(p, classes):\n",
        "  if outcome > threshold: # could be a match\n",
        "    print(outcome, label)"
      ],
      "metadata": {
        "colab": {
          "base_uri": "https://localhost:8080/"
        },
        "id": "hCEbqX1jp61q",
        "outputId": "33384236-df41-400a-c674-95770795ffae"
      },
      "execution_count": 69,
      "outputs": [
        {
          "output_type": "stream",
          "name": "stdout",
          "text": [
            "158\n",
            "1/1 [==============================] - 0s 16ms/step\n",
            "['Bot', 'Exit', 'Intro', 'NN', 'Olympus', 'Profane', 'SL', 'Ticket']\n",
            "0.9993849 Intro\n"
          ]
        }
      ]
    },
    {
      "cell_type": "markdown",
      "source": [
        "If there is a clear winner, we can just use that."
      ],
      "metadata": {
        "id": "OeB-cf4FtvLR"
      }
    },
    {
      "cell_type": "code",
      "source": [
        "best = np.argmax(p) # use the highest as our match\n",
        "chosen = classes[best] # the class to use to respond\n",
        "print(f'Chose class {chosen}')\n",
        "from random import choice # we pick one at random\n",
        "for i in intents['intents']:\n",
        "  if i['tag'] == chosen: \n",
        "    print(choice(i['responses']))\n",
        "    break"
      ],
      "metadata": {
        "colab": {
          "base_uri": "https://localhost:8080/"
        },
        "id": "DDif8CPSt0q3",
        "outputId": "a843cdd4-f94c-433d-9783-00302914f437"
      },
      "execution_count": 52,
      "outputs": [
        {
          "output_type": "stream",
          "name": "stdout",
          "text": [
            "Chose class Olympus\n",
            "Link: Olympus wiki\n"
          ]
        }
      ]
    },
    {
      "cell_type": "markdown",
      "source": [
        "You can go run the cell above that takes a user input to try again."
      ],
      "metadata": {
        "id": "yIAmWTs2uEpS"
      }
    }
  ]
}